{
 "cells": [
  {
   "cell_type": "markdown",
   "source": [
    "# Example of using TileEncoder class"
   ],
   "metadata": {}
  },
  {
   "cell_type": "code",
   "execution_count": 1,
   "source": [
    "from tqdm import tqdm\n",
    "import jax\n",
    "import jax.numpy as jnp\n",
    "from tile_encoder import TileEncoder, Bandit\n",
    "#test class\n",
    "\n",
    "#widths of tiles. Here we use three-dimentional feature as input like in the GDI paper.\n",
    "widths = (2,3,4)\n",
    "\n",
    "#offsets of the tiles\n",
    "offsets = (1,2,3)\n",
    "\n",
    "#ranges of features. \n",
    "# NOTE: features can only be integer for convenient dtype handling in the class. Just rescale it before and after \\\n",
    "# in case you need to use float features\n",
    "ranges = ((0,15), (0,10), (0,20))\n",
    "\n",
    "# optimum bandit action. we want to take actions as close as possible as this one to mimimize regret\n",
    "target = (5,4,8)\n",
    "\n",
    "#list (z, y, q, ...), where z, y, q, ... - lists of all possible values of every component of x = (z_i, y_j, q_k, ...)\n",
    "lists = tuple(tuple(jnp.arange(*r)) for r in ranges)\n",
    "\n",
    "# PRNG keys for reproducible results\n",
    "key = jax.random.PRNGKey(0)\n",
    "encoder = TileEncoder(key, widths, offsets, ranges, grid=lists, lr=.05, n=5)\n",
    "\n",
    "bandit = Bandit(offsets=target)\n",
    "regrets = []\n",
    "regret = 0\n",
    "\n",
    "for t in tqdm(range(50000)):\n",
    "    top_n_actions = encoder.get_n_actions()\n",
    "    key, another_key = jax.random.split(key)\n",
    "    action = jax.random.randint(key, minval=0, maxval=top_n_actions.shape[0], shape=tuple())\n",
    "    x = top_n_actions[action]\n",
    "    g = bandit(another_key, x)\n",
    "    encoder.update(x, g)\n",
    "    # since expected value of best action is 0 (as we configured Bandit class instance) \"regret\" is the value we are getting with minus sign\n",
    "    # we want sum of our regrets to be as low as possible\n",
    "    regret -= g\n",
    "    regrets.append(regret)\n",
    "\n",
    "print('RESULTED N OPTIMUM ACTIONS', encoder.get_n_actions())"
   ],
   "outputs": [
    {
     "output_type": "stream",
     "name": "stderr",
     "text": [
      "100%|██████████| 50000/50000 [01:39<00:00, 502.29it/s]"
     ]
    },
    {
     "output_type": "stream",
     "name": "stdout",
     "text": [
      "RESULTED N OPTIMUM ACTIONS [[5 3 7]\n",
      " [6 4 8]\n",
      " [5 4 7]\n",
      " [5 3 8]\n",
      " [5 4 8]]\n"
     ]
    },
    {
     "output_type": "stream",
     "name": "stderr",
     "text": [
      "\n"
     ]
    }
   ],
   "metadata": {}
  },
  {
   "cell_type": "markdown",
   "source": [
    "Here we can see that the algorithm found optimal solution [5,4,8] and other solutions in the top are pretty close to it.   \n",
    "\n",
    "Lets test algorithm without tile-encoding. This could be done by setting width of tiles as (1, 1, 1)."
   ],
   "metadata": {}
  },
  {
   "cell_type": "code",
   "execution_count": 2,
   "source": [
    "regrets_1 = []\n",
    "regret = 0\n",
    "\n",
    "widths = (1,1,1)\n",
    "encoder = TileEncoder(key, widths, offsets, ranges, grid=lists, lr=.05, n=5)\n",
    "key = jax.random.PRNGKey(0)\n",
    "\n",
    "for t in tqdm(range(50000)):\n",
    "    top_n_actions = encoder.get_n_actions()\n",
    "    key, another_key = jax.random.split(key)\n",
    "    action = jax.random.randint(key, minval=0, maxval=top_n_actions.shape[0], shape=tuple())\n",
    "    x = top_n_actions[action]\n",
    "    g = bandit(another_key, x)\n",
    "    encoder.update(x, g)\n",
    "    regret -= g\n",
    "    regrets_1.append(regret)\n",
    "\n",
    "print('RESULTED N OPTIMUM ACTIONS', encoder.get_n_actions())"
   ],
   "outputs": [
    {
     "output_type": "stream",
     "name": "stderr",
     "text": [
      "100%|██████████| 50000/50000 [01:31<00:00, 544.74it/s]"
     ]
    },
    {
     "output_type": "stream",
     "name": "stdout",
     "text": [
      "RESULTED N OPTIMUM ACTIONS [[5 3 8]\n",
      " [5 4 8]\n",
      " [4 3 9]\n",
      " [5 3 9]\n",
      " [5 4 7]]\n"
     ]
    },
    {
     "output_type": "stream",
     "name": "stderr",
     "text": [
      "\n"
     ]
    }
   ],
   "metadata": {}
  },
  {
   "cell_type": "markdown",
   "source": [
    "Here the algorithm found the optimal action [5,4,8] too. But if thats the case, why we even need tile encoding?  \n",
    "\n",
    "Here's the answer."
   ],
   "metadata": {}
  },
  {
   "cell_type": "code",
   "execution_count": 3,
   "source": [
    "import matplotlib.pyplot as plt\n",
    "%matplotlib inline \n",
    "\n",
    "plt.plot(regrets, label=\"Regret with tile encoding\")\n",
    "plt.plot(regrets_1, label=\"Regret without tile encoding\")\n",
    "plt.legend(loc=\"upper left\");"
   ],
   "outputs": [
    {
     "output_type": "display_data",
     "data": {
      "image/png": "[encoded data removed]",
      "text/plain": [
       "<Figure size 432x288 with 1 Axes>"
      ]
     },
     "metadata": {
      "needs_background": "light"
     }
    }
   ],
   "metadata": {}
  },
  {
   "cell_type": "markdown",
   "source": [
    "Regret with tile encoding is much lower and algorithm finds better solution faster."
   ],
   "metadata": {}
  },
  {
   "cell_type": "markdown",
   "source": [
    "# Implementation without jax. Not recommended  \n",
    "\n",
    "Below is an implementation of the same algorithm without jax parallelization. Works more than **500** times slower."
   ],
   "metadata": {}
  },
  {
   "cell_type": "code",
   "execution_count": 4,
   "source": [
    "import numpy as np\n",
    "import itertools\n",
    "\n",
    "class TileEncoder:\n",
    "    def __init__(self, widths, offsets, ranges, lr=.01):\n",
    "        \n",
    "        self.widths = widths\n",
    "        self.offsets = offsets\n",
    "        self.ranges = ranges\n",
    "        self.num_tile_layers = 1\n",
    "\n",
    "\n",
    "        for w, o in zip(widths, offsets):\n",
    "            n_layers = np.lcm(o, w)//o\n",
    "            self.num_tile_layers = max(self.num_tile_layers, n_layers)\n",
    "\n",
    "        self.l = tuple(range_l_i - offset_i*self.num_tile_layers for (range_l_i, range_r_i), offset_i in zip(self.ranges, self.offsets))\n",
    "        self.r = tuple(range_r_i + offset_i*self.num_tile_layers for (range_l_i, range_r_i), offset_i in zip(self.ranges, self.offsets))\n",
    "\n",
    "        self.w = np.random.randn(*((self.num_tile_layers,) + tuple((r_i - l_i)//w_i for r_i, l_i, w_i in zip(self.r, self.l, self.widths))))\n",
    "        self.N = np.zeros((self.num_tile_layers,) + tuple((r_i - l_i)//w_i for r_i, l_i, w_i in zip(self.r, self.l, self.widths)))\n",
    "\n",
    "        self.lr = lr\n",
    "        \n",
    "    def encode(self, x):\n",
    "        encoded = []\n",
    "        for i in range(self.num_tile_layers):\n",
    "            encoded.append(tuple(\n",
    "                np.clip(x_j - i*offset_j, a_min=l_j, a_max=r_j).astype(int)//w_j for x_j, offset_j, l_j, r_j, w_j in zip(x, self.offsets, self.l, self.r, self.widths)\n",
    "            ))\n",
    "        return encoded\n",
    "\n",
    "    def calculate_expectation_and_n(self, encoded_x):\n",
    "        value = 0\n",
    "        n = 0\n",
    "        for i, tile_numbers_i in enumerate(encoded_x):\n",
    "            index = (i,) + tile_numbers_i\n",
    "            value += self.w[index]\n",
    "            n += self.N[index]\n",
    "        return value/len(encoded_x), n\n",
    "\n",
    "    def update(self, x, g):\n",
    "        encoded_x = self.encode(x)\n",
    "        for i, tile_numbers_i in enumerate(encoded_x):\n",
    "            index = (i,) + tile_numbers_i\n",
    "            self.w[index] += self.lr * (g - self.calculate_expectation_and_n(encoded_x)[0])\n",
    "            self.N[index] += 1\n",
    "\n",
    "    def get_scores(self, lists):\n",
    "        x_generator = itertools.product(*lists)\n",
    "\n",
    "        Ns = []\n",
    "        values = []\n",
    "        for x in x_generator:\n",
    "            encoded_x = self.encode(x)\n",
    "            value_i, n_i = self.calculate_expectation_and_n(encoded_x)\n",
    "            values.append(value_i)\n",
    "            Ns.append(n_i)\n",
    "        sigma_V = np.std(values)\n",
    "        mu_V = np.mean(values)\n",
    "\n",
    "        x_generator = itertools.product(*lists)\n",
    "\n",
    "        scores = []\n",
    "        for V_i, N_i, x_i in zip(values, Ns, x_generator):\n",
    "            score_i = (V_i - mu_V)/(sigma_V + 1e-3) + np.sqrt(np.log(1 + sum(Ns))/(1 + N_i))\n",
    "            scores.append((score_i, x_i))\n",
    "\n",
    "        return scores\n"
   ],
   "outputs": [],
   "metadata": {}
  },
  {
   "cell_type": "code",
   "execution_count": 5,
   "source": [
    "from tqdm import tqdm\n",
    "from random import choice\n",
    "\n",
    "widths = (3,4,5)\n",
    "offsets = (1,1,1)\n",
    "ranges = ((0,15),)*3\n",
    "\n",
    "target = (5,4,8)\n",
    "lists = tuple(tuple(range(*r)) for r in ranges)\n",
    "encoder = TileEncoder(widths, offsets, ranges)\n",
    "\n",
    "bandit = Bandit(offsets=target)\n",
    "regrets = []\n",
    "regret = 0\n",
    "key = jax.random.PRNGKey(0)\n",
    "\n",
    "\n",
    "for t in tqdm(range(100)):\n",
    "    scores = encoder.get_scores(lists)\n",
    "    top_n_actions = sorted(scores, key=lambda x: x[0], reverse=True)[:1]\n",
    "    x = choice(top_n_actions)[1]\n",
    "    key, another_key = jax.random.split(key)\n",
    "    g = bandit(key, x)\n",
    "    encoder.update(x, g)\n",
    "    regret += g\n",
    "    regrets.append(regret)\n",
    "\n",
    "print('RESULTED OPTIMUM', sorted(scores, key=lambda x: x[0], reverse=True)[:5])"
   ],
   "outputs": [
    {
     "output_type": "stream",
     "name": "stderr",
     "text": [
      "100%|██████████| 100/100 [02:03<00:00,  1.24s/it]"
     ]
    },
    {
     "output_type": "stream",
     "name": "stdout",
     "text": [
      "RESULTED OPTIMUM [(3.160533821033867, (3, 7, 12)), (3.131947232718871, (3, 3, 5)), (3.11324413622446, (3, 3, 6)), (2.976638345566328, (3, 5, 0)), (2.972180091056398, (1, 14, 14))]\n"
     ]
    },
    {
     "output_type": "stream",
     "name": "stderr",
     "text": [
      "\n"
     ]
    }
   ],
   "metadata": {}
  },
  {
   "cell_type": "code",
   "execution_count": null,
   "source": [],
   "outputs": [],
   "metadata": {}
  },
  {
   "cell_type": "code",
   "execution_count": null,
   "source": [],
   "outputs": [],
   "metadata": {}
  }
 ],
 "metadata": {
  "orig_nbformat": 4,
  "language_info": {
   "name": "python",
   "version": "3.9.6",
   "mimetype": "text/x-python",
   "codemirror_mode": {
    "name": "ipython",
    "version": 3
   },
   "pygments_lexer": "ipython3",
   "nbconvert_exporter": "python",
   "file_extension": ".py"
  },
  "kernelspec": {
   "name": "python3",
   "display_name": "Python 3.9.6 64-bit ('lux': conda)"
  },
  "interpreter": {
   "hash": "2b3c5c33d7941f039aff63918039fdb6444a5ee0ccdbf70750793d88414d4aa7"
  }
 },
 "nbformat": 4,
 "nbformat_minor": 2
}